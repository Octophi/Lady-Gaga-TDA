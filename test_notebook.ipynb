{
 "cells": [
  {
   "cell_type": "code",
   "execution_count": 1,
   "metadata": {},
   "outputs": [],
   "source": [
    "#!/usr/bin/env python3\n",
    "# -*- coding: utf-8 -*-\n",
    "\"\"\"\n",
    "Created on Mon Sep 28 22:03:31 2020\n",
    "\n",
    "@author: nathanl\n",
    "\n",
    "\"\"\"\n",
    "\n",
    "#import the necessary stuff\n",
    "import numpy as np\n",
    "import matplotlib.pyplot as plt\n",
    "from sklearn.decomposition import PCA\n",
    "from scipy.interpolate import InterpolatedUnivariateSpline\n",
    "from ripser import ripser\n",
    "from persim import plot_diagrams\n",
    "import scipy.io.wavfile\n",
    "from IPython.display import clear_output\n",
    "from IPython.display import Audio\n",
    "from MusicFeatures import *\n",
    "import librosa\n",
    "import librosa.display\n",
    "import os\n",
    "import pickle\n",
    "import gc\n",
    "import persim\n",
    "import CSMSSMTools\n",
    "from densityChecked import densityChecked\n",
    "import time\n",
    "import sklearn"
   ]
  },
  {
   "cell_type": "code",
   "execution_count": 2,
   "metadata": {},
   "outputs": [],
   "source": [
    "# This is lazy, but works - imports all the correct stuff based on the feature type\n",
    "Fs = 44100\n",
    "def load_all_pds(song_names, split_points, endpoints, feature_type = \"novfn\", chroma_num =0):\n",
    "    pds = []\n",
    "    for song in range(len(song_names)):\n",
    "        for split_num in range(len(split_points[song])+1):\n",
    "            song_name = song_names[song]\n",
    "            if split_num == 0:\n",
    "                start_point = 0\n",
    "            else:\n",
    "                start_point = Fs * split_points[song][split_num-1]\n",
    "            if split_num == len(split_points[song]):\n",
    "                end_point = endpoints[song]\n",
    "            else:\n",
    "                end_point = Fs * split_points[song][split_num]\n",
    "            if feature_type == \"novfn\":\n",
    "                savepath = \"novfn\\\\\"+song_name + \"_\" + str(start_point) + \"_\"  + str(end_point)\n",
    "            if feature_type == \"chroma\":\n",
    "                savepath = \"chroma_\"+chroma_num+\"\\\\\"+song_name + \"_\" + str(start_point) + \"_\"  + str(end_point)\n",
    "            with open(savepath, 'rb') as f:\n",
    "                pds.append(pickle.load(f))\n",
    "    gc.collect()\n",
    "    return pds\n",
    "\n",
    "def load_pds_grouped_by_song(song_names, split_points, endpoints, feature_type = \"novfn\", chroma_num =0):\n",
    "    pds_by_song = []\n",
    "    for song in range(len(song_names)):\n",
    "        song_pds = []\n",
    "        for split_num in range(len(split_points[song])+1):\n",
    "            song_name = song_names[song]\n",
    "            if split_num == 0:\n",
    "                start_point = 0\n",
    "            else:\n",
    "                start_point = Fs * split_points[song][split_num-1]\n",
    "            if split_num == len(split_points[song]):\n",
    "                end_point = endpoints[song]\n",
    "            else:\n",
    "                end_point = Fs * split_points[song][split_num]\n",
    "            if feature_type == \"novfn\":\n",
    "                savepath = \"novfn\\\\\"+song_name + \"_\" + str(start_point) + \"_\"  + str(end_point)\n",
    "            if feature_type == \"chroma\":\n",
    "                savepath = \"chroma_\"+chroma_num+\"\\\\\"+song_name + \"_\" + str(start_point) + \"_\"  + str(end_point)\n",
    "            with open(savepath, 'rb') as f:\n",
    "                song_pds.append(pickle.load(f))\n",
    "        pds_by_song.append(song_pds)\n",
    "        gc.collect()\n",
    "    return pds_by_song"
   ]
  },
  {
   "cell_type": "code",
   "execution_count": 4,
   "metadata": {},
   "outputs": [],
   "source": [
    "path = os.path.abspath(\"Lady Gaga - Shape Features.ipynb\")\n",
    "path = os.path.dirname(path)\n",
    "\n",
    "# Step 1\n",
    "\n",
    "famemonster_song_names = ['01 - Bad Romance [Explicit]', '02 - Alejandro', '03 - Monster [Explicit]', \n",
    "'04 - Speechless', '05 - Dance In The Dark [Explicit]', '06 - Telephone [feat. Beyoncé]', '07 - So Happy I Could Die', \n",
    "'08 - Teeth [Explicit]', \"(Disc 2) 01 - Just Dance [feat. Colby O_Donis]\", '(Disc 2) 02 - LoveGame', \n",
    "'(Disc 2) 04 - Poker Face', '(Disc 2) 07 - The Fame', '(Disc 2) 09 - Starstruck [feat. Space Cowboy _ Flo Rida]',\n",
    "'(Disc 2) 11 - Paper Gangsta [Explicit]', '(Disc 2) 12 - Brown Eyes', '(Disc 2) 13 - I Like It Rough',\n",
    "'(Disc 2) 14 - Summerboy', '(Disc 2) 15 - Disco Heaven']\n",
    "\n",
    "famemonster_filepaths = []\n",
    "\n",
    "for i in range(len(famemonster_song_names)):\n",
    "    famemonster_filepaths.append(path + '\\\\..\\\\FameMonster\\\\' + famemonster_song_names[i] + \".wav\") \n",
    "\n",
    "# Missing Do What U Want for some reason\n",
    "artpop_song_names = ['01 - Aura [Explicit]', '02 - Venus [Explicit]', '03 - G.U.Y. [Explicit]', '04 - Sexxx Dreams [Explicit]', \n",
    "'05 - Jewels N_ Drugs [feat. T.I. _ Too $hort _ Twista] [Explicit]', '06 - MANiCURE', '07 - ARTPOP',\n",
    "'08 - Swine [Explicit]', '09 - Donatella [Explicit]', '10 - Fashion!', '11 - Mary Jane Holland [Explicit]',\n",
    "'12 - Dope [Explicit]', '13 - Gypsy', '14 - Applause']\n",
    "\n",
    "artpop_filepaths = []\n",
    "\n",
    "for i in range(len(artpop_song_names)):\n",
    "    artpop_filepaths.append(path + '\\\\..\\\\Artpop\\\\' + artpop_song_names[i] + \".wav\") \n",
    "    \n",
    "chromatica_song_names = ['01 Chromatica I', '02 Alice', '03 Stupid Love', '04 Rain On Me', '05 Free Woman',\n",
    "'06 Fun Tonight', '07 Chromatica II', '08 911', '09 Plastic Doll', '10 Sour Candy', '11 Enigma', '12 Replay',\n",
    "'13 Chromatica III', '14 Sine From Above', '15 1000 Doves', '16 Babylon']\n",
    "\n",
    "chromatica_filepaths = []\n",
    "\n",
    "for i in range(len(chromatica_song_names)):\n",
    "    chromatica_filepaths.append(path + '\\\\..\\\\Chromatica\\\\' + chromatica_song_names[i] + \".wav\") \n",
    "\n",
    "    \n",
    "famemonster_song_splits = [\n",
    "    # 1 - Bad Romance\n",
    "    [18, 26, 34, 66, 74, 106, 115, 147, 155, 187, 203, 220, 235, 250, 284, 292],\n",
    "    # 2 - Alejandro\n",
    "    [15, 26, 35, 44, 64, 73, 113, 123, 142, 152, 190, 210, 229, 248, 268],\n",
    "    # 3 - Monster\n",
    "    [10, 17, 25, 33, 49, 66, 81, 84, 97, 114, 129, 145, 148, 162, 177, 193, 202, 212, 229, 245],\n",
    "    # 4 - Speechless\n",
    "    [15, 42, 55, 82, 123, 149, 174, 196, 204, 230, 263, 267],\n",
    "    # 5 Dance in the Dark\n",
    "    [18, 33, 49, 77, 79, 110, 136, 156, 205, 220, 227, 239, 258, 273, 285],\n",
    "    # 6 Telephone\n",
    "    [9, 25, 33, 49, 64, 80, 96, 112, 120, 127, 135, 167, 182, 199, 214],\n",
    "    # 7 So Happy I could Die\n",
    "    [20, 39, 59, 78, 97, 117, 136, 145, 155, 164, 174, 193, 204, 231],\n",
    "    # 8 Teeth\n",
    "    [11, 22, 61, 82, 121, 140, 152, 172, 191, 201],\n",
    "    # 1 Just Dance\n",
    "    [6, 9, 17, 33, 50, 68, 84, 100, 116, 133, 148, 156, 174, 180, 197, 212, 221, 237],\n",
    "    # 2 Love Game\n",
    "    [10, 17, 37, 46, 55, 73, 81, 101, 110, 119, 137, 146, 165, 173, 197],\n",
    "    # 4 Poker Face\n",
    "    [9, 18, 26, 33, 41, 58, 74, 82, 90, 98, 114, 130, 138, 146, 155, 163, 171, 211],\n",
    "    # 7 The Fame\n",
    "    [4, 11, 19, 34, 49, 64, 79, 110, 125, 140, 155, 163, 170, 201],\n",
    "    # 9 Starstruck\n",
    "    [20, 38, 58, 76, 94, 132, 150, 169, 187, 211],\n",
    "    # 11 Paper Gangsta\n",
    "    [11, 20, 40, 47, 67, 87, 106, 115, 135, 145, 182, 193, 223, 252],\n",
    "    # 12 Brown Eyes\n",
    "    [8, 25, 55, 82, 130, 157, 173, 202, 220, 237],\n",
    "    # 13 I like it Rough\n",
    "    [9, 25, 41, 57, 73, 89, 104, 120, 138, 153, 184],\n",
    "    # 14 Summerboy\n",
    "    [13, 31, 49, 67, 77, 113, 136, 172, 218],\n",
    "    # 15 Disco Heaven\n",
    "    [15, 45, 75, 105, 135, 166, 197, 212]\n",
    "    \n",
    "]    \n",
    "# An array of arrays, where subarray corresponds to splits for a given song\n",
    "artpop_song_splits = [\n",
    "    # 1 - Aura\n",
    "    [9, 34, 56, 67, 72, 100, 137, 152, 167, 182, 215, 219],\n",
    "    # 2- Venus\n",
    "    [7, 40, 56, 72, 88, 104, 120, 134, 152, 167, 199, 215],\n",
    "    # 3 GUY\n",
    "    [18, 27, 45, 53, 62, 80, 88, 105, 121, 140, 158, 186, 220, 230],\n",
    "    # 4 Sexxx Dreams\n",
    "    [5, 34, 51, 56, 72, 106, 118, 140, 159, 177, 211],\n",
    "    # 5 Jewels N Drugs\n",
    "    [6, 20, 51, 65, 93, 107, 136, 163, 217],\n",
    "    # 6 Manicure\n",
    "    [16, 29, 43, 57, 85, 112, 120, 134, 148, 168],\n",
    "    # 7 Artpop\n",
    "    [18, 50, 85, 90, 122, 155, 172, 204, 237],\n",
    "    # 8 Swine\n",
    "    [9, 38, 67, 97, 127, 157, 187, 202, 217, 232, 247],\n",
    "    # 9 Donatella\n",
    "    [4, 8, 19, 50, 65, 81, 97, 141, 157, 172, 187, 203, 218, 249],\n",
    "    # 10 Fashion\n",
    "    [17, 35, 68, 100, 126, 149, 168, 184, 200],\n",
    "    # 11 Mary Jane Holland\n",
    "    [10, 48, 67, 86, 105, 123, 142, 161, 210, 248, 268, 275],\n",
    "    # 12 Dope\n",
    "    [16, 93,  108, 153, 186, 197],\n",
    "    # 13 Gypsy\n",
    "    [30, 45, 58, 73, 102, 116, 130, 144, 161, 171, 194, 202, 216, 231, 244],\n",
    "    # 14 - Applause\n",
    "    [15,56,70,83,109,143,151,164,178, 208]\n",
    "]\n",
    "\n",
    "chromatica_song_splits = [\n",
    "    # Chromatica I\n",
    "    [],\n",
    "    # Alice\n",
    "    [18, 34, 50, 65, 96, 112, 129, 143],\n",
    "    # Stupid Love\n",
    "    [9, 26, 41, 57, 74, 90, 108, 122, 140, 156],\n",
    "    # Rain on Me\n",
    "    [16, 32, 41, 46, 64, 80, 95, 109, 127, 143, 148, 166, 173],\n",
    "    # Free Woman\n",
    "    [9, 41, 58, 73, 91, 122, 138, 155, 170, 186],\n",
    "    # Fun Tonight\n",
    "    [4, 20, 36, 52, 68, 87, 102, 118, 134, 152, 172],\n",
    "    # Chromatica II\n",
    "    [31],\n",
    "    # 911\n",
    "    [9, 26, 35, 41, 59, 75, 84, 92, 108, 117, 131, 150, 167],\n",
    "    # Plastic Doll\n",
    "    [9, 17, 49, 63, 81, 96, 112, 144, 152, 160, 169, 202, 217],\n",
    "    # Sour Candy\n",
    "    [8, 10, 17, 33, 64, 81, 90, 110, 125, 142, 150],\n",
    "    # Enigma\n",
    "    [5, 22, 34, 48, 66, 83, 94, 112, 128, 140, 145, 174],\n",
    "    # Replay\n",
    "    [13, 21, 39, 55, 71, 88, 104, 122, 136, 151, 183],\n",
    "    # Chromatica III\n",
    "    [],\n",
    "    # Sine from above\n",
    "    [9, 40, 56, 71, 85, 87, 103, 119, 133, 149, 165, 178, 180, 195, 203, 209, 215, 221, 241],\n",
    "    # 1000 Doves\n",
    "    [17, 34, 48, 64, 80, 96, 111, 127, 143, 166, 182, 213],\n",
    "    # Babylon\n",
    "    [6, 10, 26, 32, 42, 50, 65, 67, 83, 89, 91, 106, 110, 124, 141, 155, 158]\n",
    "]\n"
   ]
  },
  {
   "cell_type": "code",
   "execution_count": 5,
   "metadata": {},
   "outputs": [],
   "source": [
    "# Loads in all the persistence diagrams from the files\n",
    "\n",
    "famemonster_pds = []\n",
    "artpop_pds = []\n",
    "chromatica_pds = []\n",
    "\n",
    "with open(\"famemonster_endpoints\", 'rb') as f:\n",
    "    famemonster_endpoints = pickle.load(f)\n",
    "\n",
    "famemonster_pds = load_all_pds(famemonster_song_names, famemonster_song_splits, famemonster_endpoints)\n",
    "famemonster_pds_by_song = load_pds_grouped_by_song(famemonster_song_names, famemonster_song_splits, famemonster_endpoints)\n",
    "\n",
    "with open(\"artpop_endpoints\", 'rb') as f:\n",
    "    artpop_endpoints = pickle.load(f)\n",
    "\n",
    "artpop_pds = load_all_pds(artpop_song_names, artpop_song_splits, artpop_endpoints)\n",
    "artpop_pds_by_song = load_pds_grouped_by_song(artpop_song_names,artpop_song_splits, artpop_endpoints)\n",
    "\n",
    "with open(\"chromatica_endpoints\", 'rb') as f:\n",
    "    chromatica_endpoints = pickle.load(f)\n",
    "\n",
    "chromatica_pds = load_all_pds(chromatica_song_names, chromatica_song_splits, chromatica_endpoints)\n",
    "chromatica_pds_by_song = load_pds_grouped_by_song(chromatica_song_names, chromatica_song_splits, chromatica_endpoints)\n"
   ]
  },
  {
   "cell_type": "code",
   "execution_count": 6,
   "metadata": {},
   "outputs": [],
   "source": [
    "'''\n",
    "pds_by_song is an array containing one array for each song. The array for each song contains \n",
    "arrays of size two corresponding to the zeroth and first homologies respectively. \n",
    "\n",
    "segment_indices_by_song is an array containing one array for each song. The array for each song\n",
    "contains arrays corresponding to the indices of whatever segment type you want (chorus, verse, etc)\n",
    "for that song\n",
    "'''\n",
    "def get_pds_by_indices(pds_by_song, segment_indices_by_song):\n",
    "    pds_at_indices = []\n",
    "    for song_index in range(len(pds_by_song)):\n",
    "        sliced_pds_by_song = []\n",
    "        for segment_index in segment_indices_by_song[song_index]:\n",
    "#            if(len(pds_by_song[song_index]) == 0):\n",
    "#                print(pds_by_song[song_index])\n",
    "            pds = pds_by_song[song_index][segment_index]\n",
    "            sliced_pds_by_song.append(pds)\n",
    "        pds_at_indices.append(sliced_pds_by_song)\n",
    "    return pds_at_indices"
   ]
  },
  {
   "cell_type": "code",
   "execution_count": null,
   "metadata": {},
   "outputs": [],
   "source": []
  },
  {
   "cell_type": "code",
   "execution_count": 10,
   "metadata": {},
   "outputs": [
    {
     "name": "stdout",
     "output_type": "stream",
     "text": [
      "2\n"
     ]
    }
   ],
   "source": [
    "print(len(famemonster_pds[0]))"
   ]
  },
  {
   "cell_type": "code",
   "execution_count": 40,
   "metadata": {},
   "outputs": [
    {
     "name": "stdout",
     "output_type": "stream",
     "text": [
      "PersImage(pixels=[40, 40], spread=0.25, specs=None, kernel_type=\"gaussian\", weighting_type=\"linear\")\n"
     ]
    },
    {
     "data": {
      "image/png": "[encoded data removed]",
      "text/plain": [
       "<Figure size 432x288 with 1 Axes>"
      ]
     },
     "metadata": {
      "needs_background": "light"
     },
     "output_type": "display_data"
    }
   ],
   "source": [
    "pim = persim.PersImage(pixels = [20,20], spread = 0.25)\n",
    "imgs = pim.transform(famemonster_pds[4][1])\n",
    "pim.show(imgs)\n"
   ]
  },
  {
   "cell_type": "code",
   "execution_count": 41,
   "metadata": {},
   "outputs": [],
   "source": [
    "# Feed in only 1-dim persistence diagrams, let diagrams_arr just be a simple 1d array\n",
    "def compute_and_store_images(diagrams_arr, savepath):\n",
    "    pim = persim.PersImage(pixels = [20,20], spread = 0.25)\n",
    "    imgs = pim.transform(diagrams_arr)\n",
    "    outfile = open(savepath, \"wb\")\n",
    "    pickle.dump(imgs, outfile)\n",
    "    outfile.close()\n",
    "    \n",
    "def compute_and_store_images_by_song(diagrams_arr_by_song, savepath):\n",
    "    pim = persim.PersImage(pixels = [20,20], spread = 0.25)\n",
    "    imgs = pim.transform(diagrams_arr)\n",
    "    outfile = open(savepath, \"wb\")\n",
    "    pickle.dump(imgs, outfile)\n",
    "    outfile.close()\n",
    "\n",
    "# Takes in an array of (song) arrays with (segment) pairs of h0 and h1\n",
    "def get_h1_persistences(pds_by_song):\n",
    "    h1_persistences = []\n",
    "    for song in pds_by_song:\n",
    "        for segment in song:\n",
    "            h1_persistences.append(segment[1])\n",
    "    return h1_persistences\n",
    "\n",
    "def load_images(savepath):\n",
    "    with open(savepath, 'rb') as f:\n",
    "        return pickle.load(f)"
   ]
  },
  {
   "cell_type": "code",
   "execution_count": 52,
   "metadata": {},
   "outputs": [
    {
     "name": "stdout",
     "output_type": "stream",
     "text": [
      "PersImage(pixels=[20, 20], spread=0.25, specs=None, kernel_type=\"gaussian\", weighting_type=\"linear\")\n"
     ]
    }
   ],
   "source": [
    "#compute_and_store_images(get_h1_persistences(chromatica_pds_by_song), 'chromatica_imgs')\n"
   ]
  },
  {
   "cell_type": "code",
   "execution_count": 53,
   "metadata": {},
   "outputs": [],
   "source": [
    "famemonster_imgs = load_images('famemonster_imgs')\n",
    "artpop_imgs = load_images('artpop_imgs')\n",
    "chromatica_imgs = load_images('chromatica_imgs')"
   ]
  },
  {
   "cell_type": "code",
   "execution_count": 67,
   "metadata": {},
   "outputs": [
    {
     "name": "stdout",
     "output_type": "stream",
     "text": [
      "[1 1 1 1 1 1 1 1 1 1 1 1 1 1 1 1 1 1 1 1 1 1 1 1 1 1 1 1 1 1 1 1 1 1 1 1 1\n",
      " 1 1 1 1 1 1 1 1 1 1 1 1 1 1 1 1 1 1 1 1 1 1 1 1 1 1 1 1 1 1 1 1 1 1 1 1 1\n",
      " 1 1 1 1 1 1 1 1 1 1 1 1 1 1 1 1 1 1 1 1 1 1 1 1 1 1 1 1 1 1 1 1 1 1 1 1 1\n",
      " 1 1 1 1 1 1 1 1 1 1 1 1 1 1 1 1 1 1 1 1 1 1 1 1 1 1 1 1 1 1 1 1 1 1 1 1 1\n",
      " 1 1 1 1 1 1 1 1 1 1 1 1 1 1 1 1 1 1 1 1 1 1 1 1 1 1 1 1 1 1 1 1 1 1 1 1 1\n",
      " 1 1 1 1 1 1 1 1 1 1 1 1 1 1 1 1 1 1 1 1 1 1 1 1 1 1 1 1 1 1 1 1 1 1 1 1 1\n",
      " 1 1 1 1 1 1 1 1 1 1 1 1 1 1 1 1 1 1 1 1 1 1 1 1 1 1 1 1 1 1 1 1 1 1 1 1 1\n",
      " 1 1 1 2 2 2 2 2 2 2 2 2 2 2 2 2 2 2 2 2 2 2 2 2 2 2 2 2 2 2 2 2 2 2 2 2 2\n",
      " 2 2 2 2 2 2 2 2 2 2 2 2 2 2 2 2 2 2 2 2 2 2 2 2 2 2 2 2 2 2 2 2 2 2 2 2 2\n",
      " 2 2 2 2 2 2 2 2 2 2 2 2 2 2 2 2 2 2 2 2 2 2 2 2 2 2 2 2 2 2 2 2 2 2 2 2 2\n",
      " 2 2 2 2 2 2 2 2 2 2 2 2 2 2 2 2 2 2 2 2 2 2 2 2 2 2 2 2 2 2 2 2 2 2 2 2 2\n",
      " 2 2 2 2 2 2 2 2 2 2 2 2 2 2 2 2 2 2 2 2 2 2 2 3 3 3 3 3 3 3 3 3 3 3 3 3 3\n",
      " 3 3 3 3 3 3 3 3 3 3 3 3 3 3 3 3 3 3 3 3 3 3 3 3 3 3 3 3 3 3 3 3 3 3 3 3 3\n",
      " 3 3 3 3 3 3 3 3 3 3 3 3 3 3 3 3 3 3 3 3 3 3 3 3 3 3 3 3 3 3 3 3 3 3 3 3 3\n",
      " 3 3 3 3 3 3 3 3 3 3 3 3 3 3 3 3 3 3 3 3 3 3 3 3 3 3 3 3 3 3 3 3 3 3 3 3 3\n",
      " 3 3 3 3 3 3 3 3 3 3 3 3 3 3 3 3 3 3 3 3 3 3 3 3 3 3 3 3 3 3 3 3 3 3 3 3 3\n",
      " 3 3 3 3 3 3 3 3 3 3 3 3 3 3 3]\n",
      "607\n"
     ]
    }
   ],
   "source": [
    "labels = np.concatenate([np.full((1,len(famemonster_imgs)), 1), np.full((1,len(artpop_imgs)), 2), np.full((1,len(chromatica_imgs)), 3)], axis = 1)[0]\n",
    "print(labels)\n",
    "print(len(labels))"
   ]
  },
  {
   "cell_type": "code",
   "execution_count": 65,
   "metadata": {},
   "outputs": [
    {
     "name": "stdout",
     "output_type": "stream",
     "text": [
      "607\n"
     ]
    }
   ],
   "source": []
  },
  {
   "cell_type": "code",
   "execution_count": 70,
   "metadata": {},
   "outputs": [],
   "source": [
    "from sklearn.model_selection import train_test_split\n",
    "all_imgs = np.concatenate([famemonster_imgs, artpop_imgs, chromatica_imgs])\n",
    "all_imgs_array = np.array([img.flatten() for img in all_imgs])\n",
    "\n",
    "X_train, X_test, y_train, y_test = train_test_split(all_imgs_array, labels, test_size=0.40, random_state=412)\n"
   ]
  },
  {
   "cell_type": "code",
   "execution_count": 92,
   "metadata": {},
   "outputs": [
    {
     "name": "stdout",
     "output_type": "stream",
     "text": [
      "0.43209876543209874\n",
      "0.42386831275720166\n",
      "0.4691358024691358\n",
      "0.51440329218107\n",
      "0.5720164609053497\n",
      "0.5967078189300411\n"
     ]
    }
   ],
   "source": [
    "from sklearn.linear_model import LogisticRegression\n",
    "\n",
    "C_vals = [10**-2, 10**-1, 1, 10, 100,1000]\n",
    "\n",
    "for C in C_vals:    \n",
    "    lr = LogisticRegression(C=C,class_weight = 'balanced', multi_class = 'ovr', max_iter = 1000)\n",
    "    lr.fit(X_train, y_train)\n",
    "    print(lr.score(X_test, y_test))"
   ]
  },
  {
   "cell_type": "code",
   "execution_count": 95,
   "metadata": {},
   "outputs": [
    {
     "name": "stdout",
     "output_type": "stream",
     "text": [
      "[0.46575342 0.43835616 0.47945205 0.57534247 0.375     ]\n",
      "[0.46575342 0.46575342 0.49315068 0.61643836 0.36111111]\n",
      "[0.42465753 0.49315068 0.47945205 0.61643836 0.34722222]\n",
      "[0.47945205 0.56164384 0.52054795 0.57534247 0.41666667]\n",
      "[0.56164384 0.65753425 0.68493151 0.63013699 0.43055556]\n",
      "[0.57534247 0.71232877 0.75342466 0.67123288 0.5       ]\n"
     ]
    },
    {
     "data": {
      "text/plain": [
       "0.5967078189300411"
      ]
     },
     "execution_count": 95,
     "metadata": {},
     "output_type": "execute_result"
    }
   ],
   "source": [
    "from sklearn.model_selection import cross_val_score\n",
    "\n",
    "\n",
    "C_vals = [10**-2, 10**-1, 1, 10, 100,1000]\n",
    "\n",
    "for C in C_vals:    \n",
    "    lr = LogisticRegression(C=C,class_weight = 'balanced', multi_class = 'ovr', max_iter = 1000)\n",
    "    print(cross_val_score(lr, X_train, y_train, cv=5))\n",
    "lr = LogisticRegression(C=1000,class_weight = 'balanced', multi_class = 'ovr', max_iter = 1000)\n",
    "lr.fit(X_train, y_train)\n",
    "lr.score(X_test,y_test)"
   ]
  },
  {
   "cell_type": "code",
   "execution_count": 117,
   "metadata": {},
   "outputs": [
    {
     "name": "stdout",
     "output_type": "stream",
     "text": [
      "0.01\n",
      "[0.28767123 0.28767123 0.39726027 0.49315068 0.27777778]\n",
      "0.3487062404870624\n",
      "0.43209876543209874\n",
      "0.1\n",
      "[0.45205479 0.50684932 0.4109589  0.52054795 0.375     ]\n",
      "0.45308219178082193\n",
      "0.49794238683127573\n",
      "1\n",
      "[0.54794521 0.53424658 0.46575342 0.69863014 0.47222222]\n",
      "0.5437595129375952\n",
      "0.5349794238683128\n",
      "10\n",
      "[0.57534247 0.60273973 0.54794521 0.68493151 0.54166667]\n",
      "0.5905251141552511\n",
      "0.6213991769547325\n",
      "100\n",
      "[0.60273973 0.73972603 0.64383562 0.63013699 0.58333333]\n",
      "0.6399543378995434\n",
      "0.5967078189300411\n",
      "1000\n",
      "[0.67123288 0.69863014 0.65753425 0.65753425 0.56944444]\n",
      "0.650875190258752\n",
      "0.6172839506172839\n"
     ]
    }
   ],
   "source": [
    "from sklearn.pipeline import make_pipeline\n",
    "from sklearn.preprocessing import StandardScaler\n",
    "from sklearn.svm import SVC\n",
    "\n",
    "train_scores = []\n",
    "val_scores = []\n",
    "test_scores = []\n",
    "for C in C_vals:    \n",
    "    clf = make_pipeline(StandardScaler(), SVC(C=C, gamma = 'auto', class_weight = 'balanced'))\n",
    "    val_scores = cross_val_score(clf, X_train, y_train, cv=5)\n",
    "    print(C)\n",
    "    print(val_scores)\n",
    "    print(val_scores.mean())\n",
    "    val_scores = np.append(val_scores, val_scores.mean())\n",
    "    clf.fit(X_train, y_train)\n",
    "    train_scores = np.append(train_scores, clf.score(X_train,y_train))\n",
    "    test_scores = np.append(test_scores, clf.score(X_test,y_test))\n",
    "    print(clf.score(X_test,y_test))"
   ]
  },
  {
   "cell_type": "code",
   "execution_count": 115,
   "metadata": {},
   "outputs": [
    {
     "data": {
      "image/png": "[encoded data removed]",
      "text/plain": [
       "<Figure size 432x288 with 1 Axes>"
      ]
     },
     "metadata": {
      "needs_background": "light"
     },
     "output_type": "display_data"
    }
   ],
   "source": [
    "\n",
    "plt.plot(C_vals[:-1], train_scores[:-1], label = \"Training Scores\")\n",
    "plt.plot(C_vals[:-1], val_scores[:-1], label = \"Cross Validation Scores\")\n",
    "plt.legend()\n",
    "plt.show()"
   ]
  },
  {
   "cell_type": "code",
   "execution_count": 113,
   "metadata": {},
   "outputs": [
    {
     "data": {
      "image/png": "[encoded data removed]",
      "text/plain": [
       "<Figure size 432x288 with 1 Axes>"
      ]
     },
     "metadata": {
      "needs_background": "light"
     },
     "output_type": "display_data"
    }
   ],
   "source": [
    "\n",
    "plt.plot(np.log10(C_vals), train_scores, label = \"Training Scores\")\n",
    "plt.plot(np.log10(C_vals), val_scores, label = \"Cross Validation Scores\")\n",
    "plt.plot(np.log10(C_vals), test_scores, label = \"Test Scores\")\n",
    "plt.legend()\n",
    "plt.show()"
   ]
  },
  {
   "cell_type": "code",
   "execution_count": 93,
   "metadata": {},
   "outputs": [
    {
     "data": {
      "text/plain": [
       "{1: 103, 2: 70, 3: 70}"
      ]
     },
     "execution_count": 93,
     "metadata": {},
     "output_type": "execute_result"
    }
   ],
   "source": [
    "unique, counts = np.unique(lr.predict(X_test), return_counts=True)\n",
    "dict(zip(unique, counts))"
   ]
  }
 ],
 "metadata": {
  "kernelspec": {
   "display_name": "Python 3",
   "language": "python",
   "name": "python3"
  },
  "language_info": {
   "codemirror_mode": {
    "name": "ipython",
    "version": 3
   },
   "file_extension": ".py",
   "mimetype": "text/x-python",
   "name": "python",
   "nbconvert_exporter": "python",
   "pygments_lexer": "ipython3",
   "version": "3.8.5"
  }
 },
 "nbformat": 4,
 "nbformat_minor": 4
}
